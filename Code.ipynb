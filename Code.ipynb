{
 "cells": [
  {
   "cell_type": "code",
   "execution_count": 2,
   "metadata": {
    "collapsed": false
   },
   "outputs": [
   ],
   "source": [
    "# list maker function\n",
    "# Makana\n",
    "import csv\n",
    "\n",
    "def read_data(file):\n",
    "    '''This function takes in the name of the file and compiles a list of lists of student information. The order of the info and format is as follows:\n",
    "    last name (typed, no extra characters),\n",
    "    first name(typed, no extra characters),\n",
    "    class description (full sentences in one cell),\n",
    "    student attributes (full sentences in one cell),\n",
    "    exam/project grade 1 (numbers only),\n",
    "    exam/project grade 2(numbers only),\n",
    "    improvements (full sentences in one cell),\n",
    "    semester grade (letter grade only (+- included)),\n",
    "    closing remarks (full sentences in one cell).'''\n",
    "    comments = []\n",
    "    with open(file) as file:\n",
    "        data = csv.reader(file, delimiter=\",\")\n",
    "        next(file)\n",
    "        for row in data:\n",
    "            comments.append(row)\n",
    "    return comments\n",
    "\n",
    "comments = read_data(\"Comp Sci Project - Sheet1.csv\")"
   ]
  },
  {
   "cell_type": "code",
   "execution_count": 3,
   "metadata": {
    "collapsed": false
   },
   "outputs": [
   ],
   "source": [
    "# functions we need:\n",
    "# create list of lists for each student\n",
    "# function for each written section \n",
    "# function - if project 2 > project 1, do something special! (improvement)\n",
    "# function to put multiple strings together \n"
   ]
  },
  {
   "cell_type": "code",
   "execution_count": 14,
   "metadata": {
    "collapsed": false
   },
   "outputs": [
    {
     "name": "stdout",
     "output_type": "stream",
     "text": [
      "[['Smith-Schuster', 'Juju', '\"In Advanced Mechanics, students built on the concepts they first studied in their 9th grade physics classes by investigating more complex scenarios with more mathematical maturity. They began by reviewing the equations for kinematics and motion, used numerical methods to understand how non-constant forces can affect motion, and used video analysis software to run mechanical experiments. Then they transitioned into a study of rotational motion and torque before concluding with conservation laws. Some students chose to study some units with calculus, while others elected to study through trigonometry and algebra.\" - Taposhi', 'Juju, you bring a great attitude to class, and you are always paying attention. You stuggle to complete some of the assignments because you were always too focused on how you could apply physics to football and failed to finish your work.', '77', '75', \"You should watch Khan academy videos about topics that interest you and do more practice problems so that you're more confident in your understanding.\", 'C', \"With hardwork and determination I'm certain that you will be able to improve your grade. All you really need to do is finish the tests.\"], ['Clark', 'Mark', '\"In Advanced Mechanics, students built on the concepts they first studied in their 9th grade physics classes by investigating more complex scenarios with more mathematical maturity. They began by reviewing the equations for kinematics and motion, used numerical methods to understand how non-constant forces can affect motion, and used video analysis software to run mechanical experiments. Then they transitioned into a study of rotational motion and torque before concluding with conservation laws. Some students chose to study some units with calculus, while others elected to study through trigonometry and algebra.\" - Taposhi', 'Mark, you have really stepped up in this class! You had a very difficult time understanding the concepts initially, but with you hard work and determination you made great improvments.', '68', '91', \"You need to review your fractions, they'll be really helpful next semester, and you should read more of the explanations in the textbook.\", 'C+', 'If you keep improving at the rate you are, then your grade will continue to rise.'], ['Jackson', 'Mason', '\"In Advanced Mechanics, students built on the concepts they first studied in their 9th grade physics classes by investigating more complex scenarios with more mathematical maturity. They began by reviewing the equations for kinematics and motion, used numerical methods to understand how non-constant forces can affect motion, and used video analysis software to run mechanical experiments. Then they transitioned into a study of rotational motion and torque before concluding with conservation laws. Some students chose to study some units with calculus, while others elected to study through trigonometry and algebra.\" - Taposhi', \"Mason, you need to put more effort into this class! Half the time your camera isn't on! You have been very lazy with your homework and it has shown on your tests. You have a decent natural understanding of the concepts, but that understanding has not grown at all throughout the semester.\", '86', '68', 'You need to do more practice problems to solidify your understanding of different topics and you should spend more time listening during groups discussions. ', 'C', 'If you pull yourself together and start putting in more effort, you should be able to improve your grade considerably.'], ['Booth', 'Veronika', '\"In Advanced Mechanics, students built on the concepts they first studied in their 9th grade physics classes by investigating more complex scenarios with more mathematical maturity. They began by reviewing the equations for kinematics and motion, used numerical methods to understand how non-constant forces can affect motion, and used video analysis software to run mechanical experiments. Then they transitioned into a study of rotational motion and torque before concluding with conservation laws. Some students chose to study some units with calculus, while others elected to study through trigonometry and algebra.\" - Taposhi', 'Veronika, you clearly have not payed attention at all this year. I actaully have no idea what you look like because you have never turned your camera on once. I constantly have to reach out to you about getting your homework in and you still sometimes get it in late. ', '63', '62', 'You had some trouble with Chapter 3, so go back and review some for next quarter. Also, participate more in class! You always have something insightful to share with us.', 'D-', \"You're last two projects showed a slight dip, but Chapter 3 has been especially difficult for you. Keep putting in the hard work and you'll definitely see an improvement!\"], ['Cisternino', 'Mawar', '\"In Advanced Mechanics, students built on the concepts they first studied in their 9th grade physics classes by investigating more complex scenarios with more mathematical maturity. They began by reviewing the equations for kinematics and motion, used numerical methods to understand how non-constant forces can affect motion, and used video analysis software to run mechanical experiments. Then they transitioned into a study of rotational motion and torque before concluding with conservation laws. Some students chose to study some units with calculus, while others elected to study through trigonometry and algebra.\" - Taposhi', 'Mawar, you have been working very hard in this class and it has shown! Keep up the good work!', '75', '89', \"You've had some trouble with simple math errors, so make sure to double check you're work and spend more time on each assignment before turning it in.\", 'B-', \"Nice improvement. Keep up the good work! I can't wait to see your understanding grow as we continue.\"]]\n"
     ]
    }
   ],
   "source": [
    "print(comments)"
   ]
  },
  {
   "cell_type": "code",
   "execution_count": 3,
   "metadata": {
    "collapsed": false
   },
   "outputs": [
    {
     "data": {
      "text/plain": [
       "'\"In Advanced Mechanics, students built on the concepts they first studied in their 9th grade physics classes by investigating more complex scenarios with more mathematical maturity. They began by reviewing the equations for kinematics and motion, used numerical methods to understand how non-constant forces can affect motion, and used video analysis software to run mechanical experiments. Then they transitioned into a study of rotational motion and torque before concluding with conservation laws. Some students chose to study some units with calculus, while others elected to study through trigonometry and algebra.\" - Taposhi'"
      ]
     },
     "execution_count": 3,
     "metadata": {
     },
     "output_type": "execute_result"
    }
   ],
   "source": [
    "# Luke\n",
    "def write_intro(student):\n",
    "    for student in comments:\n",
    "        intro= f\"{student[2]}\"\n",
    "    return intro\n",
    "write_intro(comments[3])"
   ]
  },
  {
   "cell_type": "code",
   "execution_count": 4,
   "metadata": {
    "collapsed": false
   },
   "outputs": [
    {
     "data": {
      "text/plain": [
       "\"Mason, you need to put more effort into this class! Half the time your camera isn't on! You have been very lazy with your homework and it has shown on your tests. You have a decent natural understanding of the concepts, but that understanding has not grown at all throughout the semester.\""
      ]
     },
     "execution_count": 4,
     "metadata": {
     },
     "output_type": "execute_result"
    }
   ],
   "source": [
    "# Natalia\n",
    "def student_attributes(student):\n",
    "    '''This function takes in a students name and returns a sentence about the students attributes.'''\n",
    "    attributes = student[3]\n",
    "    return attributes\n",
    "student_attributes(comments[2])"
   ]
  },
  {
   "cell_type": "code",
   "execution_count": 5,
   "metadata": {
    "collapsed": false
   },
   "outputs": [
    {
     "data": {
      "text/plain": [
       "'Juju, you recieved 77 and 75 on your most recent projects.'"
      ]
     },
     "execution_count": 5,
     "metadata": {
     },
     "output_type": "execute_result"
    }
   ],
   "source": [
    "# Makana\n",
    "def project_grades(student):\n",
    "    '''This function takes in the list of students and the student name (first and last) and returns a sentence that says \"Student, you have recieved # and # on you're most recent projects.\"\n",
    "    \"project\" can be changed to exam. When inputting the students scores into the spreadsheet, only include the numbers - no spaces, quotations, etc. If you would like to include extra information, add it within the quotations that include \" on you're most recent projects.\" as a new sentence.'''\n",
    "    sentence = \"\"\n",
    "    grade_1 = student[4]\n",
    "    grade_2 = student[5]\n",
    "    sentence = student[1] + \", you recieved \" + grade_1 + \" and \" + grade_2 + \" on your most recent projects.\"\n",
    "    return sentence\n",
    "\n",
    "project_grades(comments[0])"
   ]
  },
  {
   "cell_type": "code",
   "execution_count": 6,
   "metadata": {
    "collapsed": false
   },
   "outputs": [
    {
     "data": {
      "text/plain": [
       "\"Juju, You currnetly have a C in this class. You can do better!  There are some easy ways for you to imporve you grade even more. You should watch Khan academy videos about topics that interest you and do more practice problems so that you're more confident in your understanding. With hardwork and determination I'm certain that you will be able to improve your grade. All you really need to do is finish the tests.\""
      ]
     },
     "execution_count": 6,
     "metadata": {
     },
     "output_type": "execute_result"
    }
   ],
   "source": [
    "# Luke\n",
    "def improvements_closing(student):\n",
    "    if student[4]<=student[5]:\n",
    "        improve= \"You have shown nice improvments this semester.\"\n",
    "    else:\n",
    "        improve=''\n",
    "    if ((int(student[4])+int(student[5]))/2)<=80:\n",
    "            close= f\"{student[1]}, You currnetly have a {student[7]} in this class. You can do better! {improve} There are some easy ways for you to imporve you grade even more. {student[6]} {student[8]}\"\n",
    "    else:\n",
    "        close= f\"{student[1]}, You currnetly have a {student[7]} in this class. Well Done! There are some easy ways for you to imporve you grade. {student[6]} {student[8]}\"\n",
    "    return close\n",
    "improvements_closing(comments[0])"
   ]
  },
  {
   "cell_type": "code",
   "execution_count": 7,
   "metadata": {
    "collapsed": false
   },
   "outputs": [
    {
     "data": {
      "text/plain": [
       "'\"In Advanced Mechanics, students built on the concepts they first studied in their 9th grade physics classes by investigating more complex scenarios with more mathematical maturity. They began by reviewing the equations for kinematics and motion, used numerical methods to understand how non-constant forces can affect motion, and used video analysis software to run mechanical experiments. Then they transitioned into a study of rotational motion and torque before concluding with conservation laws. Some students chose to study some units with calculus, while others elected to study through trigonometry and algebra.\" - Taposhi. Veronika, you clearly have not payed attention at all this year. I actaully have no idea what you look like because you have never turned your camera on once. I constantly have to reach out to you about getting your homework in and you still sometimes get it in late.  Veronika, you recieved 63 and 62 on your most recent projects. Veronika, You currnetly have a D- in this class. You can do better!  There are some easy ways for you to imporve you grade even more. You had some trouble with Chapter 3, so go back and review some for next quarter. Also, participate more in class! You always have something insightful to share with us. You\\'re last two projects showed a slight dip, but Chapter 3 has been especially difficult for you. Keep putting in the hard work and you\\'ll definitely see an improvement!'"
      ]
     },
     "execution_count": 7,
     "metadata": {
     },
     "output_type": "execute_result"
    }
   ],
   "source": [
    "# Natalia\n",
    "def write_comment(student):\n",
    "    '''This function takes in a student name and returns their teacher comment.'''\n",
    "    final_comment = write_intro(student) + \". \" + student_attributes(student) + \" \" + project_grades(student) + \" \" + improvements_closing(student)\n",
    "    return final_comment\n",
    "\n",
    "write_comment(comments[3])"
   ]
  },
  {
   "cell_type": "code",
   "execution_count": 9,
   "metadata": {
    "cocalc": {
     "outputs": {
      "0": {
       "name": "input",
       "opts": {
        "password": false,
        "prompt": "Would you like the comment written into a seperate file? (Y/N) "
       },
       "output_type": "stream",
       "value": "Y"
      },
      "1": {
       "name": "input",
       "opts": {
        "password": false,
        "prompt": "Would you like the comment written into a seperate file? (Y/N) "
       },
       "output_type": "stream",
       "value": "Y"
      },
      "2": {
       "name": "input",
       "opts": {
        "password": false,
        "prompt": "Would you like the comment written into a seperate file? (Y/N) "
       },
       "output_type": "stream",
       "value": "Y"
      },
      "3": {
       "name": "input",
       "opts": {
        "password": false,
        "prompt": "Would you like the comment written into a seperate file? (Y/N) "
       },
       "output_type": "stream",
       "value": "Y"
      },
      "4": {
       "name": "input",
       "opts": {
        "password": false,
        "prompt": "Would you like the comment written into a seperate file? (Y/N) "
       },
       "output_type": "stream",
       "value": "Y"
      }
     }
    },
    "collapsed": false
   },
   "outputs": [
    {
     "name": "stdout",
     "output_type": "stream",
     "text": "Would you like the comment written into a seperate file? (Y/N)  Y"
    },
    {
     "name": "stdout",
     "output_type": "stream",
     "text": "Would you like the comment written into a seperate file? (Y/N)  Y"
    },
    {
     "name": "stdout",
     "output_type": "stream",
     "text": "Would you like the comment written into a seperate file? (Y/N)  Y"
    },
    {
     "name": "stdout",
     "output_type": "stream",
     "text": "Would you like the comment written into a seperate file? (Y/N)  Y"
    },
    {
     "name": "stdout",
     "output_type": "stream",
     "text": "Would you like the comment written into a seperate file? (Y/N)  Y"
    }
   ],
   "source": [
    "for student in comments:\n",
    "    file = input(\"Would you like the comment written into a seperate file? (Y/N) \")\n",
    "    if file.upper() == \"Y\":\n",
    "        with open(f\"{student[0]}.txt\", \"w\") as comment:\n",
    "            comment.write(student[1] + \" \" + student[0] + \"\\n\")\n",
    "            comment.write(write_comment(student))\n",
    "    else:\n",
    "        print(student[1] + \" \" + student[0])\n",
    "        print(write_comment(student))\n",
    "        print()"
   ]
  },
  {
   "cell_type": "code",
   "execution_count": 0,
   "metadata": {
    "collapsed": false
   },
   "outputs": [
   ],
   "source": [
   ]
  }
 ],
 "metadata": {
  "kernelspec": {
   "display_name": "Python 3 (system-wide)",
   "language": "python",
   "metadata": {
    "cocalc": {
     "description": "Python 3 programming language",
     "priority": 100,
     "url": "https://www.python.org/"
    }
   },
   "name": "python3",
   "resource_dir": "/ext/jupyter/kernels/python3"
  },
  "language_info": {
   "codemirror_mode": {
    "name": "ipython",
    "version": 3
   },
   "file_extension": ".py",
   "mimetype": "text/x-python",
   "name": "python",
   "nbconvert_exporter": "python",
   "pygments_lexer": "ipython3",
   "version": "3.8.5"
  }
 },
 "nbformat": 4,
 "nbformat_minor": 4
}